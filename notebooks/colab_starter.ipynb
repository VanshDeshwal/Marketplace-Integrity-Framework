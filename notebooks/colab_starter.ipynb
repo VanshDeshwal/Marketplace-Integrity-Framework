{
 "cells": [
  {
   "cell_type": "markdown",
   "id": "ee62711c",
   "metadata": {},
   "source": [
    "# Colab starter: build title embeddings and FAISS index\n",
    "This notebook shows the minimal steps to load the Shopee dataset, compute title embeddings with `sentence-transformers/all-MiniLM-L6-v2`, and build a FAISS index. Run on Colab (GPU recommended for larger models)."
   ]
  },
  {
   "cell_type": "code",
   "execution_count": null,
   "id": "482689de",
   "metadata": {},
   "outputs": [],
   "source": [
    "# Install required packages\n",
    "!pip install sentence-transformers faiss-cpu pandas"
   ]
  },
  {
   "cell_type": "code",
   "execution_count": null,
   "id": "c3b7ea8e",
   "metadata": {},
   "outputs": [],
   "source": [
    "import pandas as pd\n",
    "df = pd.read_csv('/content/drive/MyDrive/shopee-product-matching/train.csv')\n",
    "df.head()"
   ]
  },
  {
   "cell_type": "code",
   "execution_count": null,
   "id": "2006bee2",
   "metadata": {},
   "outputs": [],
   "source": [
    "from sentence_transformers import SentenceTransformer\n",
    "import numpy as np\n",
    "model = SentenceTransformer('all-MiniLM-L6-v2')\n",
    "titles = df['title'].fillna('').astype(str).tolist()\n",
    "embs = model.encode(titles, show_progress_bar=True, convert_to_numpy=True)\n",
    "np.save('/content/embeddings.npy', embs)"
   ]
  },
  {
   "cell_type": "code",
   "execution_count": null,
   "id": "c1135369",
   "metadata": {},
   "outputs": [],
   "source": [
    "import faiss\n",
    "embs = np.load('/content/embeddings.npy')\n",
    "embs = embs.astype('float32')\n",
    "d = embs.shape[1]\n",
    "index = faiss.IndexFlatIP(d)\n",
    "faiss.normalize_L2(embs)\n",
    "index.add(embs)\n",
    "faiss.write_index(index, '/content/faiss_index.idx')"
   ]
  }
 ],
 "metadata": {
  "language_info": {
   "name": "python"
  }
 },
 "nbformat": 4,
 "nbformat_minor": 5
}
